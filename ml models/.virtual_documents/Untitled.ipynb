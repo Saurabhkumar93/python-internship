import pandas as pd
import numpy as np
import matplotlib.pyplot as plt


data = pd.read_csv('crop_production.csv')
df = pd.DataFrame(data)
df


df.corr(numeric_only=True)


df.info()


df.shape


df.head()


df.tail()


nul = df.isna().sum()
nul


print(df['Area'].unique())
print(df['Production'].unique())
print(df['State_Name'].unique())
print(df['Crop'].unique())
print(df['Season'].unique())





df['Production'].value_counts()


df['Season'].value_counts()



df['Crop'].value_counts()




df['District_Name'].value_counts()



df['State_Name'].value_counts()


dup = df.duplicated().sum()
dup


mod = df['Production'].median()
df['Production'].fillna(mod, inplace = True)


x = df.isna().sum()
x


df.describe()


cor = df.corr()
cor


colm = df.columns
colm


new_df = pd.get_dummies(df, columns = ['Season','Crop','State_Name'])
new_df


 new_df.drop(['District_Name'], axis= 1,inplace=True)


new_df


new_df.corr()[1:3]


x1 = df['Season']
x2 = df['State_Name']
x3 = df['Crop']
x4 = df['Area']
y = df['Production']



plt.title('Season plot')
plt.plot(x1,y)
plt.show()


plt.title('State Plot')
plt.plot(x2,y)
plt.show()            



plt.title('Crop')
plt.plot(x3,y)
plt.show()            



plt.title('Area PLot')
plt.plot(x4,y)
plt.show()


plt.subplot(3,3,1)
plt.hist(x1)
plt.subplot(3,3,2)
plt.hist(x2)
plt.subplot(3,3,3)
plt.hist(x3)
plt.subplot(3,3,4)
plt.hist(x4)
plt.subplot(3,3,5)
plt.hist(y)

plt.show()


from sklearn import preprocessing


arr = np.array(new_df['Area'], ndmin = 2)
arr


scaler = preprocessing.StandardScaler().fit_transform(arr)



print(scaler)


scaler.mean()


new_df


x = new_df.drop(['District_Name','Crop_Year','Production'], axis =1)
y = new_df['Production']


from sklearn.model_selection import train_test_split


X_train, X_test, y_train, y_test = train_test_split(x,y ,test_size = 0.2, random_state=97)


from sklearn.ensemble import RandomForestRegressor
from sklearn.metrics import mean_squared_error, r2_score


rf_regressor = RandomForestRegressor(n_estimators=100, random_state=42)
rf_regressor.fit(X_train, y_train)


y_pred1 = rf_regressor.predict(X_test)
print(y_pred1)



r2 = r2_score(y_test, y_pred1)
print(r2)


mse = mean_squared_error(y_test, y_pred1)
print(mse)


# import the regressor 
from sklearn.tree import DecisionTreeRegressor 

# create a regressor object 
regressor = DecisionTreeRegressor(random_state = 103) 

# fit the regressor with X and Y data 
regressor.fit(X_train, y_train) 



# predicting a new value 

# test the output by changing values, like 3750 
y_pred2 = regressor.predict(X_test) 

# print the predicted price 
print( y_pred2) 



r2 = r2_score(y_test, y_pred2)
print(r2)





from sklearn.neighbors import KNeighborsRegressor


neigh = KNeighborsRegressor(n_neighbors=2)
neigh.fit(X_train, y_train)


y_pred3=neigh.predict(X_test)


r3 = r2_score(y_test, y_pred3)
print(r3)


from sklearn.linear_model import Ridge

# Ridge Regression model
ridge_model = Ridge(alpha=1.0)
ridge_model.fit(X_train, y_train)

# Predictions
y_pred_ridge = ridge_model.predict(X_test)

# Evaluation
print("Mean Squared Error (Ridge):", mean_squared_error(y_test, y_pred_ridge))


r3 = r2_score(y_test, y_pred_ridge)
print(r3)


from sklearn.linear_model import Lasso

# Lasso Regression model
lasso_model = Lasso(alpha=0.1)
lasso_model.fit(X_train, y_train)

# Predictions
y_pred_lasso = lasso_model.predict(X_test)

# Evaluation
print("Mean Squared Error (Lasso):", mean_squared_error(y_test, y_pred_lasso))



from sklearn.ensemble import GradientBoostingRegressor

# Gradient Boosting model
gbr_model = GradientBoostingRegressor()
gbr_model.fit(X_train, y_train)

# Predictions
y_pred_gbr = gbr_model.predict(X_test)

# Evaluation
print("Mean Squared Error (Gradient Boosting):", mean_squared_error(y_test, y_pred_gbr))
r3 = r2_score(y_test,y_pred_gbr )
print(r3)


from sklearn.neural_network import MLPRegressor

# Neural Network Regressor
nn_model = MLPRegressor(hidden_layer_sizes=(100,), max_iter=1000)
nn_model.fit(X_train, y_train)

# Predictions
y_pred_nn = nn_model.predict(X_test)

# Evaluation
print("Mean Squared Error (Neural Network):", mean_squared_error(y_test, y_pred_nn))
r3 = r2_score(y_test,y_pred_gbr )
print(r3)


a = 7
b = 6
print(a)if a>b else print(b)



