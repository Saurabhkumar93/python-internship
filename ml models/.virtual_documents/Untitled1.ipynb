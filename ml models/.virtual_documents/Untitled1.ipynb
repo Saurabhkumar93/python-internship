import pandas as pd
import numpy as np
import matplotlib.pyplot as plt


data = pd.read_csv('spam.csv')
df = pd.DataFrame(data)
df.head()


df.info()


df.shape


empty = df.isna().sum()
empty


df.groupby('Category').describe()


df['spam'] = df['Category'].apply(lambda x:1 if x=='spam' else 0)
df.head()


from sklearn.model_selection import train_test_split
X_train,X_test,y_train,y_test = train_test_split(df.Message,df.spam, test_size=0.25,random_state=49)


from sklearn.feature_extraction.text import CountVectorizer
vec = CountVectorizer()
X_train_count = vec.fit_transform(X_train.values)
X_train_count.toarray()[:3]


from sklearn.naive_bayes import MultinomialNB, BernoulliNB, GaussianNB
model1 = MultinomialNB()
model2 = BernoulliNB()
model3 = GaussianNB()



model1.fit(X_train_count, y_train)
#model2.fit(X_train_count, y_train)
#model3.fit(X_train_count, y_train)



