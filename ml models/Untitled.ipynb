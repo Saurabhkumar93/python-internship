{
 "cells": [
  {
   "cell_type": "code",
   "execution_count": 431,
   "id": "329c27a8-6dc1-425f-ac1a-4886622daf61",
   "metadata": {},
   "outputs": [
    {
     "name": "stdout",
     "output_type": "stream",
     "text": [
      "Education 2017 - 2020 Aryan International College Ajmer Bachelors in Business Administration 2017 HKH Public School Ajmer Higher Secondary 2015 St. Stephens Sr. Sec. School Ajmer Certified Social Media Marketer Hubspot Senior Secondary Google Ads Certification Google\n"
     ]
    }
   ],
   "source": [
    "str1=\"Education 2017 - 2020 Aryan International College Ajmer Bachelors in Business Administration 2017 HKH Public School Ajmer Higher Secondary 2015 St. Stephens Sr. Sec. School Ajmer Certified Social Media Marketer Hubspot Senior Secondary Google Ads Certification Google\"\n",
    "strt= str1.replace(\"'\",\"\").replace(\"   \",\"\").replace(\", \",\" \").encode('ascii', errors='ignore').decode('ascii')\n",
    "print(str1)\n",
    "# print(strt.find(\"C.S))"
   ]
  },
  {
   "cell_type": "code",
   "execution_count": 427,
   "id": "341eb04d-fd02-4e60-822b-591a59ab8412",
   "metadata": {},
   "outputs": [
    {
     "name": "stdout",
     "output_type": "stream",
     "text": [
      "60\n"
     ]
    }
   ],
   "source": [
    "print(str1.find(\"Jaipur\"))"
   ]
  },
  {
   "cell_type": "code",
   "execution_count": 433,
   "id": "087d7494-cad2-4c8a-be45-c1474999ac0c",
   "metadata": {},
   "outputs": [
    {
     "name": "stdout",
     "output_type": "stream",
     "text": [
      "Aryan International Colleg\n"
     ]
    }
   ],
   "source": [
    "print(str1[22:48])"
   ]
  },
  {
   "cell_type": "code",
   "execution_count": null,
   "id": "397f5d72-c1a9-429e-b9eb-99f8083e8d94",
   "metadata": {},
   "outputs": [],
   "source": []
  },
  {
   "cell_type": "code",
   "execution_count": 1,
   "id": "5b965a68-1eb1-4630-b7dc-0df1ffa36ff4",
   "metadata": {},
   "outputs": [
    {
     "ename": "OSError",
     "evalue": "[E050] Can't find model 'en_core_web_trf'. It doesn't seem to be a Python package or a valid path to a data directory.",
     "output_type": "error",
     "traceback": [
      "\u001b[1;31m---------------------------------------------------------------------------\u001b[0m",
      "\u001b[1;31mOSError\u001b[0m                                   Traceback (most recent call last)",
      "Cell \u001b[1;32mIn[1], line 10\u001b[0m\n\u001b[0;32m      7\u001b[0m \u001b[38;5;28;01mfrom\u001b[39;00m \u001b[38;5;21;01mspacy\u001b[39;00m\u001b[38;5;21;01m.\u001b[39;00m\u001b[38;5;21;01mutil\u001b[39;00m \u001b[38;5;28;01mimport\u001b[39;00m minibatch\n\u001b[0;32m      9\u001b[0m \u001b[38;5;66;03m# Load the pre-trained model\u001b[39;00m\n\u001b[1;32m---> 10\u001b[0m nlp \u001b[38;5;241m=\u001b[39m spacy\u001b[38;5;241m.\u001b[39mload(\u001b[38;5;124m\"\u001b[39m\u001b[38;5;124men_core_web_trf\u001b[39m\u001b[38;5;124m\"\u001b[39m)\n\u001b[0;32m     12\u001b[0m \u001b[38;5;28;01mif\u001b[39;00m \u001b[38;5;124m'\u001b[39m\u001b[38;5;124mner\u001b[39m\u001b[38;5;124m'\u001b[39m \u001b[38;5;129;01mnot\u001b[39;00m \u001b[38;5;129;01min\u001b[39;00m nlp\u001b[38;5;241m.\u001b[39mpipe_names:\n\u001b[0;32m     13\u001b[0m     ner \u001b[38;5;241m=\u001b[39m nlp\u001b[38;5;241m.\u001b[39madd_pipe(\u001b[38;5;124m'\u001b[39m\u001b[38;5;124mner\u001b[39m\u001b[38;5;124m'\u001b[39m)\n",
      "File \u001b[1;32m~\\AppData\\Roaming\\Python\\Python312\\site-packages\\spacy\\__init__.py:51\u001b[0m, in \u001b[0;36mload\u001b[1;34m(name, vocab, disable, enable, exclude, config)\u001b[0m\n\u001b[0;32m     27\u001b[0m \u001b[38;5;28;01mdef\u001b[39;00m \u001b[38;5;21mload\u001b[39m(\n\u001b[0;32m     28\u001b[0m     name: Union[\u001b[38;5;28mstr\u001b[39m, Path],\n\u001b[0;32m     29\u001b[0m     \u001b[38;5;241m*\u001b[39m,\n\u001b[1;32m   (...)\u001b[0m\n\u001b[0;32m     34\u001b[0m     config: Union[Dict[\u001b[38;5;28mstr\u001b[39m, Any], Config] \u001b[38;5;241m=\u001b[39m util\u001b[38;5;241m.\u001b[39mSimpleFrozenDict(),\n\u001b[0;32m     35\u001b[0m ) \u001b[38;5;241m-\u001b[39m\u001b[38;5;241m>\u001b[39m Language:\n\u001b[0;32m     36\u001b[0m \u001b[38;5;250m    \u001b[39m\u001b[38;5;124;03m\"\"\"Load a spaCy model from an installed package or a local path.\u001b[39;00m\n\u001b[0;32m     37\u001b[0m \n\u001b[0;32m     38\u001b[0m \u001b[38;5;124;03m    name (str): Package name or model path.\u001b[39;00m\n\u001b[1;32m   (...)\u001b[0m\n\u001b[0;32m     49\u001b[0m \u001b[38;5;124;03m    RETURNS (Language): The loaded nlp object.\u001b[39;00m\n\u001b[0;32m     50\u001b[0m \u001b[38;5;124;03m    \"\"\"\u001b[39;00m\n\u001b[1;32m---> 51\u001b[0m     \u001b[38;5;28;01mreturn\u001b[39;00m util\u001b[38;5;241m.\u001b[39mload_model(\n\u001b[0;32m     52\u001b[0m         name,\n\u001b[0;32m     53\u001b[0m         vocab\u001b[38;5;241m=\u001b[39mvocab,\n\u001b[0;32m     54\u001b[0m         disable\u001b[38;5;241m=\u001b[39mdisable,\n\u001b[0;32m     55\u001b[0m         enable\u001b[38;5;241m=\u001b[39menable,\n\u001b[0;32m     56\u001b[0m         exclude\u001b[38;5;241m=\u001b[39mexclude,\n\u001b[0;32m     57\u001b[0m         config\u001b[38;5;241m=\u001b[39mconfig,\n\u001b[0;32m     58\u001b[0m     )\n",
      "File \u001b[1;32m~\\AppData\\Roaming\\Python\\Python312\\site-packages\\spacy\\util.py:472\u001b[0m, in \u001b[0;36mload_model\u001b[1;34m(name, vocab, disable, enable, exclude, config)\u001b[0m\n\u001b[0;32m    470\u001b[0m \u001b[38;5;28;01mif\u001b[39;00m name \u001b[38;5;129;01min\u001b[39;00m OLD_MODEL_SHORTCUTS:\n\u001b[0;32m    471\u001b[0m     \u001b[38;5;28;01mraise\u001b[39;00m \u001b[38;5;167;01mIOError\u001b[39;00m(Errors\u001b[38;5;241m.\u001b[39mE941\u001b[38;5;241m.\u001b[39mformat(name\u001b[38;5;241m=\u001b[39mname, full\u001b[38;5;241m=\u001b[39mOLD_MODEL_SHORTCUTS[name]))  \u001b[38;5;66;03m# type: ignore[index]\u001b[39;00m\n\u001b[1;32m--> 472\u001b[0m \u001b[38;5;28;01mraise\u001b[39;00m \u001b[38;5;167;01mIOError\u001b[39;00m(Errors\u001b[38;5;241m.\u001b[39mE050\u001b[38;5;241m.\u001b[39mformat(name\u001b[38;5;241m=\u001b[39mname))\n",
      "\u001b[1;31mOSError\u001b[0m: [E050] Can't find model 'en_core_web_trf'. It doesn't seem to be a Python package or a valid path to a data directory."
     ]
    }
   ],
   "source": [
    "import pandas as pd\n",
    "import spacy\n",
    "from collections import defaultdict\n",
    "from spacy.training import Example\n",
    "import ast\n",
    "import random\n",
    "from spacy.util import minibatch\n",
    "\n",
    "# Load the pre-trained model\n",
    "nlp = spacy.load(\"en_core_web_trf\")\n",
    "\n",
    "if 'ner' not in nlp.pipe_names:\n",
    "    ner = nlp.add_pipe('ner')\n",
    "else:\n",
    "    ner = nlp.get_pipe('ner')\n",
    "\n",
    "# Define the new entity labels\n",
    "labels = [\"ORG\"]\n",
    "for label in labels:\n",
    "    ner.add_label(label)\n",
    "\n",
    "# Load your data\n",
    "df = pd.read_csv(\"example.csv\")\n",
    "merged_data = defaultdict(list)\n",
    "training_data = []\n",
    "# Prepare training data\n",
    "for _, row in df.dropna(subset=[\"string\", \"institution\", \"indexes\"]).iterrows():\n",
    "    text = row['string']\n",
    "    indexes = eval(row['indexes'])  # Convert string of list to actual list\n",
    "    merged_data[text].append((indexes[0], indexes[1]+1, \"ORG\"))\n",
    "\n",
    "for text, entity_list in merged_data.items():\n",
    "    training_data.append((text, {\"entities\": entity_list}))\n",
    "\n",
    "\n",
    "# print(training_data)\n",
    "training_examples = []\n",
    "for text, annotations in training_data:\n",
    "    doc = nlp.make_doc(text)\n",
    "    example = Example.from_dict(doc, annotations)\n",
    "    training_examples.append(example)\n",
    "\n",
    "batch_size = 4\n",
    "n_iter = 20\n",
    "\n",
    "with nlp.select_pipes(enable='ner'):\n",
    "    optimizer = nlp.begin_training()\n",
    "    for epoch in range(n_iter):\n",
    "        random.shuffle(training_examples)\n",
    "        losses = {}\n",
    "        # Create minibatches and update the model\n",
    "        for batch in minibatch(training_examples, size=batch_size):\n",
    "            for example in batch:\n",
    "                # Update the model with each example\n",
    "                nlp.update([example], drop=0.5, sgd=optimizer, losses=losses)\n",
    "        print(f\"Epoch {epoch + 1}/{n_iter}, Losses: {losses}\")\n",
    "\n",
    "nlp.to_disk(\"model2\")"
   ]
  },
  {
   "cell_type": "code",
   "execution_count": 31,
   "id": "86bed01d-94c5-48e7-8a08-f8eb5bce6af4",
   "metadata": {},
   "outputs": [
    {
     "name": "stdout",
     "output_type": "stream",
     "text": [
      "Aryan International College ORG\n",
      "HKH Public School ORG\n",
      "St. Stephens Sr. Sec. ORG\n"
     ]
    }
   ],
   "source": [
    "import spacy\n",
    "nlp = spacy.load(\"model1\")\n",
    "\n",
    "# Test the model\n",
    "doc = nlp(\"Education 2017 - 2020 Aryan International College Ajmer Bachelors in Business Administration 2017 HKH Public School Ajmer Higher Secondary 2015 St. Stephens Sr. Sec. School Ajmer Certified Social Media Marketer Hubspot Senior Secondary Google Ads Certification Google\")\n",
    "for ent in doc.ents:\n",
    "    print(ent.text, ent.label_)"
   ]
  },
  {
   "cell_type": "code",
   "execution_count": 423,
   "id": "c5815687-a873-4243-bcc8-cc422dfece32",
   "metadata": {},
   "outputs": [
    {
     "name": "stdout",
     "output_type": "stream",
     "text": [
      "['tok2vec', 'tagger', 'parser', 'attribute_ruler', 'lemmatizer', 'ner']\n"
     ]
    }
   ],
   "source": [
    "print(nlp.pipe_names)"
   ]
  },
  {
   "cell_type": "code",
   "execution_count": 29,
   "id": "a4c28f22-8831-4dec-8f90-44406c53fec8",
   "metadata": {},
   "outputs": [
    {
     "name": "stdout",
     "output_type": "stream",
     "text": [
      "[('EDUCATION GRADUATION Bachelor Of Computer Application (BCA) Jaipur National University (JNU)   2020 - 2022 12TH Science Maths Rajasthan Board of Secondary Education   2016 - 2017', {'entities': [(60, 92, 'ORG')]}), ('Education 2017 - 2020 Aryan International College Ajmer Bachelors in Business Administration 2017 HKH Public School Ajmer Higher Secondary 2015 St. Stephens Sr. Sec. School Ajmer Certified Social Media Marketer Hubspot Senior Secondary Google Ads Certification Google', {'entities': [(22, 49, 'ORG'), (98, 115, 'ORG'), (144, 172, 'ORG')]}), ('ACADEMIC DETAILS COURSE SPECIALISATION INSTITUTE/ COLLEGE M. Tech. Instrumentation & Control Gautam Buddha University Greater Noida B. Tech Electrical Engineering Gautam Buddha University Greater Noida XII(C.B.S.E.) Science Bal Bhavan Public School Delhi X(C.B.S.E.) -- Bal Bhavan Public School Delhi %/ CGPA 6.22 6.22 68.87% 7.6 YEAR OF COMPLETION 2020 2019 2015 2013', {'entities': [(93, 117, 'ORG'), (224, 248, 'ORG')]}), ('Educational counsellor Advised students to help them make informed decisions about their academic and career paths Developed educational plans Collaborate with faculty and staff to ensure that students receive the support they need to succeed academically EDUCATION Bachelor Of Commerce S.S Jain Subodh College Jaipur Rajasthan University Jaipur Sep 2015 - Jun 2018 Master Of Business Administration July 2018- Dec 2020 Rajasthan Technical University Jaipur Ventureheap Academy Jaipur Digital Marketing course Feb 2024 - May 2024', {'entities': [(287, 310, 'ORG'), (318, 338, 'ORG'), (420, 450, 'ORG'), (458, 477, 'ORG')]}), ('EDUCATION R.T.U. KOTA RAJASTHAN BACHELOR OF TECHNOLOGY Graduate on July 2023   Jaipur Major  Computer Science Percentage  85.7 out of 100 B.S.E.B. PATNA BIHAR 12TH GRADE Grad. March 2019   Muzaffarpur Percentage  74.2 out of 100 I.C.S.E. NEW DELHI 10TH GRADE Grad. May 2016   Muzaffarpur Percentage  71.8 out of 100', {'entities': [(10, 21, 'ORG'), (138, 152, 'ORG'), (229, 247, 'ORG')]}), ('EDUCATION Indian Institute of Technology  Mumbai 2001', {'entities': [(10, 48, 'ORG')]}), ('EDUCATION Secondary (X) Bihani Children s Academy 2013 - 2014 Senior Secondary (XII) Bihani Children s Academy 2015 - 2016 B.Com S.D. PG College 2016 - 2019 8.4 CGPA 79.5% 74% MBA (Finance and Marketing) Chandigarh Business School of Administration 86% 2019 - 2021 ', {'entities': [(24, 49, 'ORG'), (129, 144, 'ORG'), (204, 248, 'ORG')]}), ('Educational Training Sekawati University Master In Poltical Science (2021- 2022) Distance learning Course IISU University @Amit sharma MCA ( DATA SCIENCE) (2022-2024) Facebook Amit sharma Address Kediya place chorya mata ji Ke mandir ke pass 302039 Character References', {'entities': [(21, 40, 'ORG'), (106, 121, 'ORG')]}), ('Education Masters In Commerce University of Rajasthan (2019-2021) ', {'entities': [(30, 53, 'ORG')]}), ('Education Master of Busniess Administration Dr. A.P.J University Lucknow 2014-2016', {'entities': [(44, 64, 'ORG')]}), ('EDUCATION JavaScript Java Python RESTful APIs HTML CSS Tailwind CSS Asynchronous Programming NextJs ReactJs NodeJs React Router Redux Redux Toolkit React Hooks Git Github SQL Government Engineering College Ajmer Rajasthan Degree  Bachelor of Technology in Computer Science and Engineering Kendriya Vidyalaya No.3 Delhi New Delhi Class  XIIth  CBSE Kendriya Vidyalaya No.1 Barielly  Uttar Pradesh Class  Xth  CBSE Aug 2019  Aug 2023 2017  2018 2015  2016 ', {'entities': [(175, 211, 'ORG'), (289, 318, 'ORG'), (348, 380, 'ORG')]}), ('EDUCATION Imperial College London Computing  Artificial Intelligence (MEng) Modules  Robotics Performance Engineering Databases Operating Systems Networks Compilers Intro to ML    Raffles Institution Cambridge-Singapore GCE A Level  Awarded the Raffles Diploma with Distinction present Cumulative Grade  First Class Honours', {'entities': [(10, 33, 'ORG'), (180, 199, 'ORG'), (200, 219, 'ORG')]}), ('Education Master of Computer Applications University College of Engineering Osmania University 2010 with 74% Hyderabad India. Bachelor of Sciences (Mathematics) Nagarjuna University 2007 with 72% Guntur India. 12th from Chaitanya Junior & Degree College 2004 with 73% 10th from AVRPM high school 2002 with 78%', {'entities': [(42, 94, 'ORG'), (161, 181, 'ORG'), (220, 253, 'ORG'), (278, 295, 'ORG')]}), ('EDUCATION Masters in Business Administration   2022-2023 Chandigarh University Gharuan B.E.D   2019-2020 Chaudhary Devi Lal University B.A   2016 2018 Chaudhary Devi Lal University ', {'entities': [(57, 78, 'ORG'), (105, 134, 'ORG')]}), ('Education Master of Business Administration MBA) Marketing & Finance Poornima University Jaipur (India ) 2015 - 2017 Bachelorof Commerce (B.COM) M.K.S.College of Commerce Pilani India 2013 - 2015', {'entities': [(69, 88, 'ORG'), (145, 170, 'ORG')]}), ('Education MS Analytics University of San Francisco July 2015 Relevant Coursework  Machine Learning Adv. Machine Learning Data Acquisition Exploratory Data Analysis Relational Databases NoSQL Databases Linear Regression Analysis Time Series Analysis Intro. SAS BS Physics University of San Francisco May 2014 Minors  Computer Sciences Mathematics Honors  University Scholar President of  Math Honors Society Relevant Coursework  Software Development Data Structures & Algorithms Differential Eqn.s Linear Algebra Graduate Econometrics', {'entities': [(23, 50, 'ORG')]}), ('EDUCATION National Institute of Technology Kurukshetra 6cgp (MCA) 06/2016 - 06/2019 Maharishi Arvind Institute of Technology 62.50% (BCA) 06/2013 - 06/2016', {'entities': [(10, 54, 'ORG'), (84, 124, 'ORG')]}), ('EDUCATION Bachelor of Technology Engineering College Ajmer Ajmer 08/2019 - Present Intermediate in science New Public Sr. Sec. School Kota 04/2017 - 03/2019 Courses Class 11 and 12 with PCM subjects in RBSE board. High School New Public Sr. Sec. School Kota 04/2015 - 03/2017 Courses Education in RBSE board.', {'entities': [(33, 58, 'ORG'), (107, 138, 'ORG')]}), ('EDUCATION MCA  Master of Computer Application 2021-2023 JECRC University Jaipur (Rajasthan) CGPA  8.9 BCA  Bachelor of Computer Application 2018-2021 Mohanlal Sukhadia University Udaipur (Rajasthan) CGPA  8.0', {'entities': [(56, 72, 'ORG'), (150, 178, 'ORG')]}), ('EDUCATION Grass institute Certified Data analyst University Of Kota Masters Of Commerce in EAFM Bachelor Of Commerce', {'entities': [(10, 25, 'ORG'), (49, 67, 'ORG')]}), ('EDUCATION PROFILE Bachelor of Arts Rajasthan University I am a recent graduate of the Digital Marketing course from WsCube Tech in Jaipur where I earned a digital marketing certificate. Through live assignments and 2019- 2022 hands-on projects I gained practical experience in SEO Master course of Digital marketing Wscube Tech Dec. 2023 - July 2024', {'entities': [(35, 55, 'ORG'), (116, 127, 'ORG')]}), ('Education Bachelor of Technology - BTech  National Institute of Technology Hamirpur (NIT Hamirpur) Material Science and eng  Grade  74 Education - Facilitated the growth and development of startups through the implementation of effective scaling techniques strategic evolution and groundbreaking product creation. - Developed and executed innovative approaches to enhance the performance and strategies of startups. Apr 2018 - Jun 2022', {'entities': [(42, 98, 'ORG')]}), ('EDUCATION Degree/Course Secondary Examination Senior Secondary Examination B.A HOBBIES Institute/ College Tiwari Public Senior Secondary school Tiwari Public Senior Secondary School Maharaja Vinayak PG College University/ Board Board of Secondary Examination Board of Secondary Examination University of Rajasthan Percentage/ CGPA Year of Passing 69.83 % 2021 65.00 % 2023 Pursuing Learn New things PERSONAL DETAILS Address Date of Birth Gender Nationality Marital Status 23C Baba Nahar Singh Colony Machh ki Pipli Jaipur Rajasthan 302031 13/04/2006 Male Indian Single Languages Known Hindi /English DECLARATION I hereby declare that all the details furnished here are true to the best of my knowledge and belief. Abhishek Jangid ', {'entities': [(106, 143, 'ORG'), (182, 209, 'ORG'), (290, 313, 'ORG')]}), ('Education Bachelor s degree in Computer Science Poornima College Of Engineering - Jaipur Rajasthan October 2020 to June 2024 12th Pass Maheswari International School - Kishangarh Rajasthan 10th Pass Maharaja Sumer Singh Public School - Kishangarh Rajasthan', {'entities': [(48, 79, 'ORG'), (135, 178, 'ORG'), (199, 246, 'ORG')]}), ('Academic Qualification Examination Board/University MCA BCA 12th 10th JECRC JECRC RBSE RBSE Year 2022 2020 2017 2015 %/CGPA 7.94CGPA 7.26CGPA 70.00% 65.33%', {'entities': [(70, 75, 'ORG')]}), ('Education PHOTOSHOP KEYWORD RESEARCH CORAL DRAW CANVA MOVAVI VIDEO EDITOR GOOGLE ANALYTICS SEARCH CONSOL ON PAGE SEO OFF PAGE SEO Technical Seo Bachelor of Science - Bhwani Nikten College 2018 to 2020 12th class - N.K. Public School 2014 to 2015', {'entities': [(166, 187, 'ORG'), (214, 232, 'ORG')]}), ('Education govt.darbar se.sec.school Sambhar lake 12th 88% Adarsh vidya mandir 10th 70% Vardhman institute RSCIT 72%', {'entities': [(10, 48, 'ORG'), (58, 77, 'ORG'), (87, 105, 'ORG')]}), ('EDUCATION Bachelor of computer Applications (BCA) University of Maharaja college  8/2022- present', {'entities': [(50, 80, 'ORG')]}), ('Education Master s in ENGLISH Kolhan University - Jamshedpur Jharkhand April 2020 to present Master s in ENG JWC - Jamshedpur Jharkhand', {'entities': [(30, 47, 'ORG'), (109, 125, 'ORG')]}), ('EDUCATION Master in Data Science Shoolini University  Solan Himachal Pradesh  2024  7.8 Bachelor in Computer Application Rajasthan University  Jaipur  2022  76%', {'entities': [(33, 59, 'ORG'), (121, 141, 'ORG')]}), ('EDUCATION Raj Rishi Govt Autonomous College Alwar (Rajasthan). Bachelor of Computer Application (BCA). 70% Board of Secondary Education Rajasthan Higher secondary (12th) 63%  PERSONAL STRENGTHS Hardworking Honest Adapted Well Communication ', {'entities': [(10, 43, 'ORG')]}), ('EDUCATION 10+2 RBSC Board 2010-2012 B.COM SUBHODH COLLEGE 2015-2016 CONTACT Address PN. 78 Shiv Colony Khora Bisal 302012 Phone 8233188957 Email cgjustfolllowme@gmail.com CERTIFICATES SEO  Link Building in Depth LINKEDIN Facebook Ads LINKEDIN B2B Foundation  SMM LINKEDIN ', {'entities': [(42, 57, 'ORG')]}), ('EDUCATION MBA JK Lakshmipat University - Jaipur Rajasthan Specialization in Human Resource Management. Worked on a Start-up idea Project and learnt Entrepreneurship. July 2018 - Mar. 2020 ADDITIONAL INFORMATION', {'entities': [(14, 38, 'ORG')]})]\n"
     ]
    }
   ],
   "source": [
    "print(training_data)"
   ]
  },
  {
   "cell_type": "code",
   "execution_count": null,
   "id": "632c20ae-51fa-4779-b46a-0732602a335e",
   "metadata": {},
   "outputs": [],
   "source": []
  }
 ],
 "metadata": {
  "kernelspec": {
   "display_name": "Python 3 (ipykernel)",
   "language": "python",
   "name": "python3"
  },
  "language_info": {
   "codemirror_mode": {
    "name": "ipython",
    "version": 3
   },
   "file_extension": ".py",
   "mimetype": "text/x-python",
   "name": "python",
   "nbconvert_exporter": "python",
   "pygments_lexer": "ipython3",
   "version": "3.12.4"
  }
 },
 "nbformat": 4,
 "nbformat_minor": 5
}
